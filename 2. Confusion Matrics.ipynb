{
 "cells": [
  {
   "cell_type": "markdown",
   "id": "a9cf99e6",
   "metadata": {},
   "source": [
    "# Confusion Matrics"
   ]
  },
  {
   "cell_type": "markdown",
   "id": "b598d579",
   "metadata": {},
   "source": [
    "It is the performance matrics for classification problems.m"
   ]
  },
  {
   "cell_type": "markdown",
   "id": "8a48eae5",
   "metadata": {},
   "source": [
    "###### It is a square matrics made oup of :\n",
    "\n",
    "1) TP (True Positive)<br>\n",
    "2) FN (False Negative)<br>\n",
    "3) FP (False Positive)<br>\n",
    "4) TN (True Negative)<br>"
   ]
  },
  {
   "cell_type": "markdown",
   "id": "08af386a",
   "metadata": {},
   "source": [
    "#### Classification Matrics"
   ]
  },
  {
   "cell_type": "markdown",
   "id": "c4846ca5",
   "metadata": {},
   "source": [
    "1) Precision = TP/(TP+FP), TN/(TN+FN) <br>\n",
    "2) Recall = TP/(TP+FN), TN/(TN+FP) <br>\n",
    "3) F1-Score = 2*Precison*Recall/(Precision+Recall) <br>\n",
    "4) Accuracy = (TP+TN)/(TP+FN+FP+TN) <br>"
   ]
  },
  {
   "cell_type": "code",
   "execution_count": 2,
   "id": "c970deec",
   "metadata": {},
   "outputs": [],
   "source": [
    "y_true = [1,0,1,1,0,0,1,0,0,1,0,1,1,0,1,0,0,1]\n",
    "y_pred = [0,1,0,1,0,0,1,1,0,1,1,0,0,1,0,1,0,0]"
   ]
  },
  {
   "cell_type": "code",
   "execution_count": 3,
   "id": "ff002bb0",
   "metadata": {},
   "outputs": [
    {
     "name": "stdout",
     "output_type": "stream",
     "text": [
      "[1, 0, 1, 1, 0, 0, 1, 0, 0, 1, 0, 1, 1, 0, 1, 0, 0, 1]\n",
      "[0, 1, 0, 1, 0, 0, 1, 1, 0, 1, 1, 0, 0, 1, 0, 1, 0, 0]\n"
     ]
    }
   ],
   "source": [
    "print(y_true)\n",
    "print(y_pred)"
   ]
  },
  {
   "cell_type": "code",
   "execution_count": 5,
   "id": "d4bc8a00",
   "metadata": {},
   "outputs": [],
   "source": [
    "from sklearn.metrics import confusion_matrix, classification_report"
   ]
  },
  {
   "cell_type": "code",
   "execution_count": 8,
   "id": "2eae86a4",
   "metadata": {},
   "outputs": [
    {
     "name": "stdout",
     "output_type": "stream",
     "text": [
      "[[4 5]\n",
      " [6 3]]\n"
     ]
    }
   ],
   "source": [
    "cm = confusion_matrix(y_true, y_pred)\n",
    "print(cm)\n",
    "\n",
    "# Actual value = 0, predicted value = 0 => TP = 4\n",
    "# Actual value = 0, predicted value = 1=> FN = 5\n",
    "# Actual value = 1, predicted value = 0 => FP = 6\n",
    "# Actual value = 1, predicted value = 1 => TN = 3\n",
    "\n",
    "# Output matrix\n",
    "# [[TP=4  FN=5]]\n",
    "# [[FP=6  TN=3]]"
   ]
  },
  {
   "cell_type": "code",
   "execution_count": 9,
   "id": "e225f4ec",
   "metadata": {},
   "outputs": [
    {
     "name": "stdout",
     "output_type": "stream",
     "text": [
      "              precision    recall  f1-score   support\n",
      "\n",
      "           0       0.40      0.44      0.42         9\n",
      "           1       0.38      0.33      0.35         9\n",
      "\n",
      "    accuracy                           0.39        18\n",
      "   macro avg       0.39      0.39      0.39        18\n",
      "weighted avg       0.39      0.39      0.39        18\n",
      "\n"
     ]
    }
   ],
   "source": [
    "print(classification_report(y_true, y_pred))"
   ]
  },
  {
   "cell_type": "code",
   "execution_count": 11,
   "id": "7b69850b",
   "metadata": {},
   "outputs": [],
   "source": [
    "# support = 9 => [[4  5]] => 4+5=9  and  [[6  3]] => 6+3=9\n",
    "# 18 is the length of the data set y_true and y_pred."
   ]
  }
 ],
 "metadata": {
  "kernelspec": {
   "display_name": "Python 3 (ipykernel)",
   "language": "python",
   "name": "python3"
  },
  "language_info": {
   "codemirror_mode": {
    "name": "ipython",
    "version": 3
   },
   "file_extension": ".py",
   "mimetype": "text/x-python",
   "name": "python",
   "nbconvert_exporter": "python",
   "pygments_lexer": "ipython3",
   "version": "3.10.2"
  },
  "varInspector": {
   "cols": {
    "lenName": 16,
    "lenType": 16,
    "lenVar": 40
   },
   "kernels_config": {
    "python": {
     "delete_cmd_postfix": "",
     "delete_cmd_prefix": "del ",
     "library": "var_list.py",
     "varRefreshCmd": "print(var_dic_list())"
    },
    "r": {
     "delete_cmd_postfix": ") ",
     "delete_cmd_prefix": "rm(",
     "library": "var_list.r",
     "varRefreshCmd": "cat(var_dic_list()) "
    }
   },
   "types_to_exclude": [
    "module",
    "function",
    "builtin_function_or_method",
    "instance",
    "_Feature"
   ],
   "window_display": false
  }
 },
 "nbformat": 4,
 "nbformat_minor": 5
}
